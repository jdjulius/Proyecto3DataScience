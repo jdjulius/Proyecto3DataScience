{
 "cells": [
  {
   "cell_type": "code",
   "execution_count": 1,
   "metadata": {
    "collapsed": true,
    "ExecuteTime": {
     "end_time": "2023-08-15T05:41:07.370012400Z",
     "start_time": "2023-08-15T05:41:07.310278800Z"
    }
   },
   "outputs": [],
   "source": [
    "import pandas as pd\n",
    "import seaborn as sns\n",
    "import statistics as stats\n",
    "import numpy as np\n",
    "import scipy\n",
    "\n",
    "import matplotlib.pyplot as plt"
   ]
  },
  {
   "cell_type": "code",
   "execution_count": 2,
   "outputs": [],
   "source": [
    "def media(x):\n",
    "    return stats.mean(x)"
   ],
   "metadata": {
    "collapsed": false,
    "ExecuteTime": {
     "end_time": "2023-08-15T05:41:07.387019200Z",
     "start_time": "2023-08-15T05:41:07.372017300Z"
    }
   }
  },
  {
   "cell_type": "code",
   "execution_count": 3,
   "outputs": [],
   "source": [
    "def moda(x):\n",
    "    return stats.mode(x)"
   ],
   "metadata": {
    "collapsed": false,
    "ExecuteTime": {
     "end_time": "2023-08-15T05:41:07.406940600Z",
     "start_time": "2023-08-15T05:41:07.387019200Z"
    }
   }
  },
  {
   "cell_type": "code",
   "execution_count": 4,
   "outputs": [],
   "source": [
    "def std(x):\n",
    "    return stats.stdev(x)"
   ],
   "metadata": {
    "collapsed": false,
    "ExecuteTime": {
     "end_time": "2023-08-15T05:41:07.417939700Z",
     "start_time": "2023-08-15T05:41:07.402940300Z"
    }
   }
  },
  {
   "cell_type": "code",
   "execution_count": 5,
   "outputs": [],
   "source": [
    "def median(x):\n",
    "    return stats.median(x)"
   ],
   "metadata": {
    "collapsed": false,
    "ExecuteTime": {
     "end_time": "2023-08-15T05:41:07.438936300Z",
     "start_time": "2023-08-15T05:41:07.418960100Z"
    }
   }
  },
  {
   "cell_type": "code",
   "execution_count": 6,
   "outputs": [],
   "source": [
    "def var(x):\n",
    "    return stats.variance(x)"
   ],
   "metadata": {
    "collapsed": false,
    "ExecuteTime": {
     "end_time": "2023-08-15T05:41:07.449937600Z",
     "start_time": "2023-08-15T05:41:07.435938200Z"
    }
   }
  },
  {
   "cell_type": "code",
   "execution_count": 7,
   "outputs": [],
   "source": [
    "def quantiles(x):\n",
    "    return stats.quantiles(x)"
   ],
   "metadata": {
    "collapsed": false,
    "ExecuteTime": {
     "end_time": "2023-08-15T05:41:07.470935700Z",
     "start_time": "2023-08-15T05:41:07.451941700Z"
    }
   }
  },
  {
   "cell_type": "code",
   "execution_count": 8,
   "outputs": [],
   "source": [
    "def mean(x):\n",
    "    return stats.mean(x)"
   ],
   "metadata": {
    "collapsed": false,
    "ExecuteTime": {
     "end_time": "2023-08-15T05:41:07.481939500Z",
     "start_time": "2023-08-15T05:41:07.466936300Z"
    }
   }
  },
  {
   "cell_type": "code",
   "execution_count": 9,
   "outputs": [],
   "source": [
    "def rango(x):\n",
    "    return x.max() - x.min()"
   ],
   "metadata": {
    "collapsed": false,
    "ExecuteTime": {
     "end_time": "2023-08-15T05:41:07.518452700Z",
     "start_time": "2023-08-15T05:41:07.482941Z"
    }
   }
  },
  {
   "cell_type": "code",
   "execution_count": 10,
   "outputs": [],
   "source": [
    "def min(x):\n",
    "    return x.min()"
   ],
   "metadata": {
    "collapsed": false,
    "ExecuteTime": {
     "end_time": "2023-08-15T05:41:07.518452700Z",
     "start_time": "2023-08-15T05:41:07.499458100Z"
    }
   }
  },
  {
   "cell_type": "code",
   "execution_count": 1,
   "outputs": [],
   "source": [
    "def max(x):\n",
    "    return x.max()"
   ],
   "metadata": {
    "collapsed": false,
    "ExecuteTime": {
     "end_time": "2023-08-19T02:34:10.776403Z",
     "start_time": "2023-08-19T02:34:10.745405700Z"
    }
   }
  },
  {
   "cell_type": "code",
   "execution_count": 12,
   "outputs": [],
   "source": [
    "def fillmedia(df):\n",
    "    return df.apply(lambda x: x.fillna(x.median()), axis=0)"
   ],
   "metadata": {
    "collapsed": false,
    "ExecuteTime": {
     "end_time": "2023-08-15T05:41:07.550456100Z",
     "start_time": "2023-08-15T05:41:07.530358300Z"
    }
   }
  },
  {
   "cell_type": "code",
   "execution_count": 13,
   "outputs": [],
   "source": [
    "def missing_data(data):\n",
    "    total = data.isnull().sum()\n",
    "    percent = (data.isnull().sum() / data.isnull().count() * 100)\n",
    "    tt = pd.concat([total, percent], axis=1, keys=['Total', 'Percent'])\n",
    "    types = []\n",
    "    for col in data.columns:\n",
    "        dtype = str(data[col].dtype)\n",
    "        types.append(dtype)\n",
    "    tt['Types'] = types\n",
    "    return (tt)"
   ],
   "metadata": {
    "collapsed": false,
    "ExecuteTime": {
     "end_time": "2023-08-15T05:41:07.573454400Z",
     "start_time": "2023-08-15T05:41:07.547454400Z"
    }
   }
  },
  {
   "cell_type": "code",
   "execution_count": 16,
   "outputs": [],
   "source": [
    "def crearcategoria2(x):\n",
    "    if x < 18.5:\n",
    "        return \"Bajo peso\"\n",
    "    elif 18.5 <= x < 25:\n",
    "        return \"Peso normal\"\n",
    "    elif 25 <= x < 30:\n",
    "        return \"Sobrepeso\"\n",
    "    elif 30 <= x < 35:\n",
    "        return \"Obesidad grado 1\"\n",
    "    elif 35 <= x < 40:\n",
    "        return \"Obesidad grado 2\"\n",
    "    elif x >= 40:\n",
    "        return \"Obesidad grado 3\"\n",
    "    else:\n",
    "        return \"na\""
   ],
   "metadata": {
    "collapsed": false,
    "ExecuteTime": {
     "end_time": "2023-08-16T19:00:39.400294Z",
     "start_time": "2023-08-16T19:00:39.376295700Z"
    }
   }
  },
  {
   "cell_type": "code",
   "execution_count": null,
   "outputs": [],
   "source": [],
   "metadata": {
    "collapsed": false
   }
  }
 ],
 "metadata": {
  "kernelspec": {
   "display_name": "Python 3",
   "language": "python",
   "name": "python3"
  },
  "language_info": {
   "codemirror_mode": {
    "name": "ipython",
    "version": 2
   },
   "file_extension": ".py",
   "mimetype": "text/x-python",
   "name": "python",
   "nbconvert_exporter": "python",
   "pygments_lexer": "ipython2",
   "version": "2.7.6"
  }
 },
 "nbformat": 4,
 "nbformat_minor": 0
}
