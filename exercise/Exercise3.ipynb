{
 "cells": [
  {
   "cell_type": "markdown",
   "source": [
    " # Ejercicio Nº 3\n",
    "Crear una función que permita generar 3 variables cualitativas ordinales a partir de las variables numéricas con los siguientes criterios:\n",
    "1. Si es mayor a la “media + 1*desviación estándar” → Alto\n",
    "2. Si está entre “media - 1*desviación estándar” y “media + 1*desviación estándar” → Medio\n",
    "3. Si es menor a la “media - 1*desviación estándar” → Bajo\n",
    "\n"
   ],
   "metadata": {
    "collapsed": false
   }
  },
  {
   "cell_type": "code",
   "execution_count": 1,
   "outputs": [],
   "source": [
    "import pandas as pd"
   ],
   "metadata": {
    "collapsed": false,
    "ExecuteTime": {
     "end_time": "2023-07-28T05:26:25.731481400Z",
     "start_time": "2023-07-28T05:26:25.713374800Z"
    }
   }
  },
  {
   "cell_type": "code",
   "execution_count": 2,
   "outputs": [
    {
     "data": {
      "text/plain": "     Millas_Por_Galon  Cilindros Pais_Origen  Peso_En_Libras  Desplazamiento  \\\n0                18.0          8         USA            3504           307.0   \n1                15.0          8         USA            3693           350.0   \n2                18.0          8         USA            3436           318.0   \n3                16.0          8         USA            3433           304.0   \n4                17.0          8         USA            3449           302.0   \n..                ...        ...         ...             ...             ...   \n401              27.0          4         USA            2790           140.0   \n402              44.0          4      Europe            2130            97.0   \n403              32.0          4         USA            2295           135.0   \n404              28.0          4         USA            2625           120.0   \n405              31.0          4         USA            2720           119.0   \n\n     Aceleracion                     Nombre       Anyo  Caballo_De_Fuerza  \n0           12.0  chevrolet chevelle malibu  1/01/1970              130.0  \n1           11.5          buick skylark 320  1/01/1970              165.0  \n2           11.0         plymouth satellite  1/01/1970              150.0  \n3           12.0              amc rebel sst  1/01/1970              150.0  \n4           10.5                ford torino  1/01/1970              140.0  \n..           ...                        ...        ...                ...  \n401         15.6            ford mustang gl  1/01/1982               86.0  \n402         24.6                  vw pickup  1/01/1982               52.0  \n403         11.6              dodge rampage  1/01/1982               84.0  \n404         18.6                ford ranger  1/01/1982               79.0  \n405         19.4                 chevy s-10  1/01/1982               82.0  \n\n[406 rows x 9 columns]",
      "text/html": "<div>\n<style scoped>\n    .dataframe tbody tr th:only-of-type {\n        vertical-align: middle;\n    }\n\n    .dataframe tbody tr th {\n        vertical-align: top;\n    }\n\n    .dataframe thead th {\n        text-align: right;\n    }\n</style>\n<table border=\"1\" class=\"dataframe\">\n  <thead>\n    <tr style=\"text-align: right;\">\n      <th></th>\n      <th>Millas_Por_Galon</th>\n      <th>Cilindros</th>\n      <th>Pais_Origen</th>\n      <th>Peso_En_Libras</th>\n      <th>Desplazamiento</th>\n      <th>Aceleracion</th>\n      <th>Nombre</th>\n      <th>Anyo</th>\n      <th>Caballo_De_Fuerza</th>\n    </tr>\n  </thead>\n  <tbody>\n    <tr>\n      <th>0</th>\n      <td>18.0</td>\n      <td>8</td>\n      <td>USA</td>\n      <td>3504</td>\n      <td>307.0</td>\n      <td>12.0</td>\n      <td>chevrolet chevelle malibu</td>\n      <td>1/01/1970</td>\n      <td>130.0</td>\n    </tr>\n    <tr>\n      <th>1</th>\n      <td>15.0</td>\n      <td>8</td>\n      <td>USA</td>\n      <td>3693</td>\n      <td>350.0</td>\n      <td>11.5</td>\n      <td>buick skylark 320</td>\n      <td>1/01/1970</td>\n      <td>165.0</td>\n    </tr>\n    <tr>\n      <th>2</th>\n      <td>18.0</td>\n      <td>8</td>\n      <td>USA</td>\n      <td>3436</td>\n      <td>318.0</td>\n      <td>11.0</td>\n      <td>plymouth satellite</td>\n      <td>1/01/1970</td>\n      <td>150.0</td>\n    </tr>\n    <tr>\n      <th>3</th>\n      <td>16.0</td>\n      <td>8</td>\n      <td>USA</td>\n      <td>3433</td>\n      <td>304.0</td>\n      <td>12.0</td>\n      <td>amc rebel sst</td>\n      <td>1/01/1970</td>\n      <td>150.0</td>\n    </tr>\n    <tr>\n      <th>4</th>\n      <td>17.0</td>\n      <td>8</td>\n      <td>USA</td>\n      <td>3449</td>\n      <td>302.0</td>\n      <td>10.5</td>\n      <td>ford torino</td>\n      <td>1/01/1970</td>\n      <td>140.0</td>\n    </tr>\n    <tr>\n      <th>...</th>\n      <td>...</td>\n      <td>...</td>\n      <td>...</td>\n      <td>...</td>\n      <td>...</td>\n      <td>...</td>\n      <td>...</td>\n      <td>...</td>\n      <td>...</td>\n    </tr>\n    <tr>\n      <th>401</th>\n      <td>27.0</td>\n      <td>4</td>\n      <td>USA</td>\n      <td>2790</td>\n      <td>140.0</td>\n      <td>15.6</td>\n      <td>ford mustang gl</td>\n      <td>1/01/1982</td>\n      <td>86.0</td>\n    </tr>\n    <tr>\n      <th>402</th>\n      <td>44.0</td>\n      <td>4</td>\n      <td>Europe</td>\n      <td>2130</td>\n      <td>97.0</td>\n      <td>24.6</td>\n      <td>vw pickup</td>\n      <td>1/01/1982</td>\n      <td>52.0</td>\n    </tr>\n    <tr>\n      <th>403</th>\n      <td>32.0</td>\n      <td>4</td>\n      <td>USA</td>\n      <td>2295</td>\n      <td>135.0</td>\n      <td>11.6</td>\n      <td>dodge rampage</td>\n      <td>1/01/1982</td>\n      <td>84.0</td>\n    </tr>\n    <tr>\n      <th>404</th>\n      <td>28.0</td>\n      <td>4</td>\n      <td>USA</td>\n      <td>2625</td>\n      <td>120.0</td>\n      <td>18.6</td>\n      <td>ford ranger</td>\n      <td>1/01/1982</td>\n      <td>79.0</td>\n    </tr>\n    <tr>\n      <th>405</th>\n      <td>31.0</td>\n      <td>4</td>\n      <td>USA</td>\n      <td>2720</td>\n      <td>119.0</td>\n      <td>19.4</td>\n      <td>chevy s-10</td>\n      <td>1/01/1982</td>\n      <td>82.0</td>\n    </tr>\n  </tbody>\n</table>\n<p>406 rows × 9 columns</p>\n</div>"
     },
     "execution_count": 2,
     "metadata": {},
     "output_type": "execute_result"
    }
   ],
   "source": [
    "df = pd.read_csv(\"../data/raw/autos.csv\",delimiter=\";\")\n",
    "df"
   ],
   "metadata": {
    "collapsed": false,
    "ExecuteTime": {
     "end_time": "2023-07-28T05:26:25.820499200Z",
     "start_time": "2023-07-28T05:26:25.728476200Z"
    }
   }
  },
  {
   "cell_type": "code",
   "execution_count": 3,
   "outputs": [],
   "source": [
    "def createQualitativeVariable(var, media, std):\n",
    "    if var > (media + 1 * std) :\n",
    "        return \"Alto\"\n",
    "    elif (media - 1 * std) < var < (media + 1 * std):\n",
    "        return \"Medio\"\n",
    "    elif var < (media - 1 * std):\n",
    "        return \"Bajo\""
   ],
   "metadata": {
    "collapsed": false,
    "ExecuteTime": {
     "end_time": "2023-07-28T05:26:25.840020100Z",
     "start_time": "2023-07-28T05:26:25.820499200Z"
    }
   }
  },
  {
   "cell_type": "code",
   "execution_count": 4,
   "outputs": [
    {
     "data": {
      "text/plain": "     Millas_Por_Galon  Cilindros Pais_Origen  Peso_En_Libras  Desplazamiento  \\\n0                18.0          8         USA            3504           307.0   \n1                15.0          8         USA            3693           350.0   \n2                18.0          8         USA            3436           318.0   \n3                16.0          8         USA            3433           304.0   \n4                17.0          8         USA            3449           302.0   \n..                ...        ...         ...             ...             ...   \n401              27.0          4         USA            2790           140.0   \n402              44.0          4      Europe            2130            97.0   \n403              32.0          4         USA            2295           135.0   \n404              28.0          4         USA            2625           120.0   \n405              31.0          4         USA            2720           119.0   \n\n     Aceleracion                     Nombre       Anyo  Caballo_De_Fuerza  \\\n0           12.0  chevrolet chevelle malibu  1/01/1970              130.0   \n1           11.5          buick skylark 320  1/01/1970              165.0   \n2           11.0         plymouth satellite  1/01/1970              150.0   \n3           12.0              amc rebel sst  1/01/1970              150.0   \n4           10.5                ford torino  1/01/1970              140.0   \n..           ...                        ...        ...                ...   \n401         15.6            ford mustang gl  1/01/1982               86.0   \n402         24.6                  vw pickup  1/01/1982               52.0   \n403         11.6              dodge rampage  1/01/1982               84.0   \n404         18.6                ford ranger  1/01/1982               79.0   \n405         19.4                 chevy s-10  1/01/1982               82.0   \n\n    categorica  \n0         Alto  \n1         Alto  \n2         Alto  \n3         Alto  \n4         Alto  \n..         ...  \n401      Medio  \n402      Medio  \n403      Medio  \n404      Medio  \n405      Medio  \n\n[406 rows x 10 columns]",
      "text/html": "<div>\n<style scoped>\n    .dataframe tbody tr th:only-of-type {\n        vertical-align: middle;\n    }\n\n    .dataframe tbody tr th {\n        vertical-align: top;\n    }\n\n    .dataframe thead th {\n        text-align: right;\n    }\n</style>\n<table border=\"1\" class=\"dataframe\">\n  <thead>\n    <tr style=\"text-align: right;\">\n      <th></th>\n      <th>Millas_Por_Galon</th>\n      <th>Cilindros</th>\n      <th>Pais_Origen</th>\n      <th>Peso_En_Libras</th>\n      <th>Desplazamiento</th>\n      <th>Aceleracion</th>\n      <th>Nombre</th>\n      <th>Anyo</th>\n      <th>Caballo_De_Fuerza</th>\n      <th>categorica</th>\n    </tr>\n  </thead>\n  <tbody>\n    <tr>\n      <th>0</th>\n      <td>18.0</td>\n      <td>8</td>\n      <td>USA</td>\n      <td>3504</td>\n      <td>307.0</td>\n      <td>12.0</td>\n      <td>chevrolet chevelle malibu</td>\n      <td>1/01/1970</td>\n      <td>130.0</td>\n      <td>Alto</td>\n    </tr>\n    <tr>\n      <th>1</th>\n      <td>15.0</td>\n      <td>8</td>\n      <td>USA</td>\n      <td>3693</td>\n      <td>350.0</td>\n      <td>11.5</td>\n      <td>buick skylark 320</td>\n      <td>1/01/1970</td>\n      <td>165.0</td>\n      <td>Alto</td>\n    </tr>\n    <tr>\n      <th>2</th>\n      <td>18.0</td>\n      <td>8</td>\n      <td>USA</td>\n      <td>3436</td>\n      <td>318.0</td>\n      <td>11.0</td>\n      <td>plymouth satellite</td>\n      <td>1/01/1970</td>\n      <td>150.0</td>\n      <td>Alto</td>\n    </tr>\n    <tr>\n      <th>3</th>\n      <td>16.0</td>\n      <td>8</td>\n      <td>USA</td>\n      <td>3433</td>\n      <td>304.0</td>\n      <td>12.0</td>\n      <td>amc rebel sst</td>\n      <td>1/01/1970</td>\n      <td>150.0</td>\n      <td>Alto</td>\n    </tr>\n    <tr>\n      <th>4</th>\n      <td>17.0</td>\n      <td>8</td>\n      <td>USA</td>\n      <td>3449</td>\n      <td>302.0</td>\n      <td>10.5</td>\n      <td>ford torino</td>\n      <td>1/01/1970</td>\n      <td>140.0</td>\n      <td>Alto</td>\n    </tr>\n    <tr>\n      <th>...</th>\n      <td>...</td>\n      <td>...</td>\n      <td>...</td>\n      <td>...</td>\n      <td>...</td>\n      <td>...</td>\n      <td>...</td>\n      <td>...</td>\n      <td>...</td>\n      <td>...</td>\n    </tr>\n    <tr>\n      <th>401</th>\n      <td>27.0</td>\n      <td>4</td>\n      <td>USA</td>\n      <td>2790</td>\n      <td>140.0</td>\n      <td>15.6</td>\n      <td>ford mustang gl</td>\n      <td>1/01/1982</td>\n      <td>86.0</td>\n      <td>Medio</td>\n    </tr>\n    <tr>\n      <th>402</th>\n      <td>44.0</td>\n      <td>4</td>\n      <td>Europe</td>\n      <td>2130</td>\n      <td>97.0</td>\n      <td>24.6</td>\n      <td>vw pickup</td>\n      <td>1/01/1982</td>\n      <td>52.0</td>\n      <td>Medio</td>\n    </tr>\n    <tr>\n      <th>403</th>\n      <td>32.0</td>\n      <td>4</td>\n      <td>USA</td>\n      <td>2295</td>\n      <td>135.0</td>\n      <td>11.6</td>\n      <td>dodge rampage</td>\n      <td>1/01/1982</td>\n      <td>84.0</td>\n      <td>Medio</td>\n    </tr>\n    <tr>\n      <th>404</th>\n      <td>28.0</td>\n      <td>4</td>\n      <td>USA</td>\n      <td>2625</td>\n      <td>120.0</td>\n      <td>18.6</td>\n      <td>ford ranger</td>\n      <td>1/01/1982</td>\n      <td>79.0</td>\n      <td>Medio</td>\n    </tr>\n    <tr>\n      <th>405</th>\n      <td>31.0</td>\n      <td>4</td>\n      <td>USA</td>\n      <td>2720</td>\n      <td>119.0</td>\n      <td>19.4</td>\n      <td>chevy s-10</td>\n      <td>1/01/1982</td>\n      <td>82.0</td>\n      <td>Medio</td>\n    </tr>\n  </tbody>\n</table>\n<p>406 rows × 10 columns</p>\n</div>"
     },
     "execution_count": 4,
     "metadata": {},
     "output_type": "execute_result"
    }
   ],
   "source": [
    "media =df[\"Desplazamiento\"].mean()\n",
    "std = df[\"Desplazamiento\"].std()\n",
    "\n",
    "df[\"categorica\"] = df[\"Desplazamiento\"].apply(createQualitativeVariable, args=(media,std))\n",
    "df"
   ],
   "metadata": {
    "collapsed": false,
    "ExecuteTime": {
     "end_time": "2023-07-28T05:26:25.937056800Z",
     "start_time": "2023-07-28T05:26:25.836021700Z"
    }
   }
  },
  {
   "cell_type": "code",
   "execution_count": 5,
   "outputs": [
    {
     "data": {
      "text/plain": "Medio    267\nAlto     103\nBajo      36\nName: categorica, dtype: int64"
     },
     "execution_count": 5,
     "metadata": {},
     "output_type": "execute_result"
    }
   ],
   "source": [
    "df[\"categorica\"].value_counts()"
   ],
   "metadata": {
    "collapsed": false,
    "ExecuteTime": {
     "end_time": "2023-07-28T05:26:46.996832900Z",
     "start_time": "2023-07-28T05:26:46.980251Z"
    }
   }
  },
  {
   "cell_type": "code",
   "execution_count": null,
   "outputs": [],
   "source": [],
   "metadata": {
    "collapsed": false
   }
  }
 ],
 "metadata": {
  "kernelspec": {
   "display_name": "Python 3",
   "language": "python",
   "name": "python3"
  },
  "language_info": {
   "codemirror_mode": {
    "name": "ipython",
    "version": 2
   },
   "file_extension": ".py",
   "mimetype": "text/x-python",
   "name": "python",
   "nbconvert_exporter": "python",
   "pygments_lexer": "ipython2",
   "version": "2.7.6"
  }
 },
 "nbformat": 4,
 "nbformat_minor": 0
}
