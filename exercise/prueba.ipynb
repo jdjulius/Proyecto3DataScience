{
 "cells": [
  {
   "cell_type": "markdown",
   "source": [
    "Retornar “B” para todos los números divisibles de 3, “I” para los números\n",
    "divisibles de 5 y “BI” para los números divisibles en 3 y 5. (No utilizar el\n",
    "operador % y dejar evidencia del código de Python utilizado para resolver el\n",
    "problema).\n",
    "\n",
    "\n",
    "B  -> 3\n",
    "I  -> 5\n",
    "BI -> 3 Y 5\n"
   ],
   "metadata": {
    "collapsed": false
   }
  },
  {
   "cell_type": "code",
   "execution_count": 30,
   "outputs": [],
   "source": [
    "#Se define el arreglo de 1 a 100\n",
    "arreglo = list(range(1, 100))"
   ],
   "metadata": {
    "collapsed": false,
    "ExecuteTime": {
     "end_time": "2023-08-05T04:40:04.438190Z",
     "start_time": "2023-08-05T04:40:04.428439100Z"
    }
   }
  },
  {
   "cell_type": "code",
   "execution_count": 31,
   "outputs": [],
   "source": [
    "def divisible(num, divisor):\n",
    "    result = num/divisor\n",
    "    if result == int(result):\n",
    "        return True\n",
    "    return False"
   ],
   "metadata": {
    "collapsed": false,
    "ExecuteTime": {
     "end_time": "2023-08-05T04:40:04.758237500Z",
     "start_time": "2023-08-05T04:40:04.749786300Z"
    }
   }
  },
  {
   "cell_type": "code",
   "execution_count": 33,
   "outputs": [
    {
     "data": {
      "text/plain": "False"
     },
     "execution_count": 33,
     "metadata": {},
     "output_type": "execute_result"
    }
   ],
   "source": [
    "divisible(20,3)"
   ],
   "metadata": {
    "collapsed": false,
    "ExecuteTime": {
     "end_time": "2023-08-05T04:40:11.667682500Z",
     "start_time": "2023-08-05T04:40:11.660584700Z"
    }
   }
  },
  {
   "cell_type": "code",
   "execution_count": 34,
   "outputs": [],
   "source": [
    "def transform(arr):\n",
    "\n",
    "    arreglo2 = []\n",
    "\n",
    "    for elemento in arr:\n",
    "        if divisible(elemento,3) and divisible(elemento,5):\n",
    "            arreglo2.append(\"BI\")\n",
    "        elif divisible(elemento,3):\n",
    "            arreglo2.append(\"B\")\n",
    "        elif divisible(elemento,5):\n",
    "            arreglo2.append(\"I\")\n",
    "        else:\n",
    "            arreglo2.append(elemento)\n",
    "\n",
    "    return arreglo2\n"
   ],
   "metadata": {
    "collapsed": false,
    "ExecuteTime": {
     "end_time": "2023-08-05T04:48:22.207950900Z",
     "start_time": "2023-08-05T04:48:22.201948Z"
    }
   }
  },
  {
   "cell_type": "code",
   "execution_count": 35,
   "outputs": [
    {
     "data": {
      "text/plain": "[1,\n 2,\n 'B',\n 4,\n 'I',\n 'B',\n 7,\n 8,\n 'B',\n 'I',\n 11,\n 'B',\n 13,\n 14,\n 'BI',\n 16,\n 17,\n 'B',\n 19,\n 'I',\n 'B',\n 22,\n 23,\n 'B',\n 'I',\n 26,\n 'B',\n 28,\n 29,\n 'BI',\n 31,\n 32,\n 'B',\n 34,\n 'I',\n 'B',\n 37,\n 38,\n 'B',\n 'I',\n 41,\n 'B',\n 43,\n 44,\n 'BI',\n 46,\n 47,\n 'B',\n 49,\n 'I',\n 'B',\n 52,\n 53,\n 'B',\n 'I',\n 56,\n 'B',\n 58,\n 59,\n 'BI',\n 61,\n 62,\n 'B',\n 64,\n 'I',\n 'B',\n 67,\n 68,\n 'B',\n 'I',\n 71,\n 'B',\n 73,\n 74,\n 'BI',\n 76,\n 77,\n 'B',\n 79,\n 'I',\n 'B',\n 82,\n 83,\n 'B',\n 'I',\n 86,\n 'B',\n 88,\n 89,\n 'BI',\n 91,\n 92,\n 'B',\n 94,\n 'I',\n 'B',\n 97,\n 98,\n 'B']"
     },
     "execution_count": 35,
     "metadata": {},
     "output_type": "execute_result"
    }
   ],
   "source": [
    "transform(arreglo)"
   ],
   "metadata": {
    "collapsed": false,
    "ExecuteTime": {
     "end_time": "2023-08-05T04:48:24.916398400Z",
     "start_time": "2023-08-05T04:48:24.884678100Z"
    }
   }
  },
  {
   "cell_type": "code",
   "execution_count": null,
   "outputs": [],
   "source": [],
   "metadata": {
    "collapsed": false
   }
  }
 ],
 "metadata": {
  "kernelspec": {
   "display_name": "Python 3",
   "language": "python",
   "name": "python3"
  },
  "language_info": {
   "codemirror_mode": {
    "name": "ipython",
    "version": 2
   },
   "file_extension": ".py",
   "mimetype": "text/x-python",
   "name": "python",
   "nbconvert_exporter": "python",
   "pygments_lexer": "ipython2",
   "version": "2.7.6"
  }
 },
 "nbformat": 4,
 "nbformat_minor": 0
}
